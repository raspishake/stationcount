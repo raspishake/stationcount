{
 "cells": [
  {
   "cell_type": "code",
   "execution_count": 1,
   "metadata": {},
   "outputs": [],
   "source": [
    "from obspy.core import UTCDateTime\n",
    "from datetime import timedelta\n",
    "import matplotlib.pyplot as plt\n",
    "import matplotlib.dates as mdates\n",
    "import matplotlib.cbook as cbook\n",
    "import pandas as pd\n",
    "pd.plotting.register_matplotlib_converters()\n",
    "\n",
    "years = mdates.YearLocator()   # every year\n",
    "months = mdates.MonthLocator()  # every month\n",
    "years_fmt = mdates.DateFormatter('%Y')\n",
    "\n",
    "headers = ['Station', 'First_Connection', 'Online_Status'] \n",
    "\n",
    "full_inv = pd.read_csv('firstconn-status-20191109.csv',\n",
    "                       index_col=1,\n",
    "                       header=None,\n",
    "                       names=headers,\n",
    "                       date_parser=lambda t:pd.to_datetime(str(t),\n",
    "                                                           format='%Y-%m-%dT%H:%M:%SZ'))\n",
    "\n",
    "online = full_inv[full_inv.Online_Status == 1]\n",
    "online.insert(0, 'Number_Online', range(1, 1+(len(online))))\n",
    "\n",
    "# datetime format\n",
    "fmt = '%Y-%m-%dT%H:%M:%S'.replace(':','%%3A')"
   ]
  },
  {
   "cell_type": "code",
   "execution_count": 2,
   "metadata": {},
   "outputs": [],
   "source": [
    "def make_plot(ymax):\n",
    "    fig, ax = plt.subplots(figsize=(14, 8))\n",
    "    plt.ylim(0,ymax*1.05)\n",
    "    # titles\n",
    "    ax.set_ylabel('Raspberry Shake Stations')\n",
    "    ax.set_xlabel('Time')\n",
    "    # ticks\n",
    "    ax.xaxis.set_major_locator(years)\n",
    "    ax.xaxis.set_major_formatter(years_fmt)\n",
    "    ax.xaxis.set_minor_locator(months)\n",
    "    # labels\n",
    "    ax.format_xdata = mdates.DateFormatter(fmt)\n",
    "    fig.autofmt_xdate()\n",
    "    # grid\n",
    "    plt.grid(b=True, which='major', axis='both', dashes=(1,7))\n",
    "    return fig, ax"
   ]
  },
  {
   "cell_type": "code",
   "execution_count": 3,
   "metadata": {},
   "outputs": [
    {
     "data": {
      "text/html": [
       "<div>\n",
       "<style scoped>\n",
       "    .dataframe tbody tr th:only-of-type {\n",
       "        vertical-align: middle;\n",
       "    }\n",
       "\n",
       "    .dataframe tbody tr th {\n",
       "        vertical-align: top;\n",
       "    }\n",
       "\n",
       "    .dataframe thead th {\n",
       "        text-align: right;\n",
       "    }\n",
       "</style>\n",
       "<table border=\"1\" class=\"dataframe\">\n",
       "  <thead>\n",
       "    <tr style=\"text-align: right;\">\n",
       "      <th></th>\n",
       "      <th>Number_Online</th>\n",
       "      <th>Station</th>\n",
       "      <th>Online_Status</th>\n",
       "    </tr>\n",
       "    <tr>\n",
       "      <th>First_Connection</th>\n",
       "      <th></th>\n",
       "      <th></th>\n",
       "      <th></th>\n",
       "    </tr>\n",
       "  </thead>\n",
       "  <tbody>\n",
       "    <tr>\n",
       "      <th>2016-11-25 16:25:21</th>\n",
       "      <td>1</td>\n",
       "      <td>RCDC4</td>\n",
       "      <td>1</td>\n",
       "    </tr>\n",
       "    <tr>\n",
       "      <th>2016-11-25 16:25:58</th>\n",
       "      <td>2</td>\n",
       "      <td>R10DC</td>\n",
       "      <td>1</td>\n",
       "    </tr>\n",
       "    <tr>\n",
       "      <th>2016-11-26 20:05:13</th>\n",
       "      <td>3</td>\n",
       "      <td>R2285</td>\n",
       "      <td>1</td>\n",
       "    </tr>\n",
       "    <tr>\n",
       "      <th>2016-12-01 20:26:28</th>\n",
       "      <td>4</td>\n",
       "      <td>R71AD</td>\n",
       "      <td>1</td>\n",
       "    </tr>\n",
       "    <tr>\n",
       "      <th>2016-12-02 01:30:51</th>\n",
       "      <td>5</td>\n",
       "      <td>R368D</td>\n",
       "      <td>1</td>\n",
       "    </tr>\n",
       "    <tr>\n",
       "      <th>...</th>\n",
       "      <td>...</td>\n",
       "      <td>...</td>\n",
       "      <td>...</td>\n",
       "    </tr>\n",
       "    <tr>\n",
       "      <th>2019-11-08 22:36:51</th>\n",
       "      <td>1029</td>\n",
       "      <td>R6197</td>\n",
       "      <td>1</td>\n",
       "    </tr>\n",
       "    <tr>\n",
       "      <th>2019-11-08 22:48:20</th>\n",
       "      <td>1030</td>\n",
       "      <td>RFA62</td>\n",
       "      <td>1</td>\n",
       "    </tr>\n",
       "    <tr>\n",
       "      <th>2019-11-09 05:55:30</th>\n",
       "      <td>1031</td>\n",
       "      <td>R6314</td>\n",
       "      <td>1</td>\n",
       "    </tr>\n",
       "    <tr>\n",
       "      <th>2019-11-09 16:11:44</th>\n",
       "      <td>1032</td>\n",
       "      <td>R97E1</td>\n",
       "      <td>1</td>\n",
       "    </tr>\n",
       "    <tr>\n",
       "      <th>2019-11-09 16:47:42</th>\n",
       "      <td>1033</td>\n",
       "      <td>S49FD</td>\n",
       "      <td>1</td>\n",
       "    </tr>\n",
       "  </tbody>\n",
       "</table>\n",
       "<p>1033 rows × 3 columns</p>\n",
       "</div>"
      ],
      "text/plain": [
       "                     Number_Online Station  Online_Status\n",
       "First_Connection                                         \n",
       "2016-11-25 16:25:21              1   RCDC4              1\n",
       "2016-11-25 16:25:58              2   R10DC              1\n",
       "2016-11-26 20:05:13              3   R2285              1\n",
       "2016-12-01 20:26:28              4   R71AD              1\n",
       "2016-12-02 01:30:51              5   R368D              1\n",
       "...                            ...     ...            ...\n",
       "2019-11-08 22:36:51           1029   R6197              1\n",
       "2019-11-08 22:48:20           1030   RFA62              1\n",
       "2019-11-09 05:55:30           1031   R6314              1\n",
       "2019-11-09 16:11:44           1032   R97E1              1\n",
       "2019-11-09 16:47:42           1033   S49FD              1\n",
       "\n",
       "[1033 rows x 3 columns]"
      ]
     },
     "execution_count": 3,
     "metadata": {},
     "output_type": "execute_result"
    }
   ],
   "source": [
    "# here are the stations that remain online today (2019-11-09)\n",
    "online"
   ]
  },
  {
   "cell_type": "code",
   "execution_count": 4,
   "metadata": {},
   "outputs": [
    {
     "data": {
      "image/png": "[encoded data removed]",
      "text/plain": [
       "<Figure size 1008x576 with 1 Axes>"
      ]
     },
     "metadata": {
      "needs_background": "light"
     },
     "output_type": "display_data"
    }
   ],
   "source": [
    "fig, ax = make_plot(ymax=online.Number_Online.max())\n",
    "plt.plot(online.index, online.Number_Online, label='Online Stations')\n",
    "plt.legend()\n",
    "plt.savefig('img/online.png', bbox_inches='tight')\n",
    "plt.show()"
   ]
  },
  {
   "cell_type": "code",
   "execution_count": null,
   "metadata": {},
   "outputs": [],
   "source": []
  }
 ],
 "metadata": {
  "kernelspec": {
   "display_name": "Python 3",
   "language": "python",
   "name": "python3"
  },
  "language_info": {
   "codemirror_mode": {
    "name": "ipython",
    "version": 3
   },
   "file_extension": ".py",
   "mimetype": "text/x-python",
   "name": "python",
   "nbconvert_exporter": "python",
   "pygments_lexer": "ipython3",
   "version": "3.8.3"
  }
 },
 "nbformat": 4,
 "nbformat_minor": 2
}
